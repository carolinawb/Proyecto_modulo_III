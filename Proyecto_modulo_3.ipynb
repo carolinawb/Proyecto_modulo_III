{
  "nbformat": 4,
  "nbformat_minor": 0,
  "metadata": {
    "colab": {
      "provenance": [],
      "name": "Proyecto_modulo_3.ipynb"
    },
    "kernelspec": {
      "name": "python3",
      "display_name": "Python 3"
    },
    "language_info": {
      "name": "python"
    }
  },
  "cells": [
    {
      "cell_type": "code",
      "execution_count": null,
      "metadata": {
        "id": "e6LRHiTr5lgb"
      },
      "outputs": [],
      "source": [
        "import seaborn as sns # De graficación\n",
        "import matplotlib.pyplot as plt # De graficación\n",
        "import pandas as pd # Dataframes\n",
        "import numpy as np\n",
        "from scipy.stats import skew, kurtosis\n",
        "import plotly.express as px #Librería de graficación de plotly para python\n",
        "\n"
      ]
    },
    {
      "cell_type": "code",
      "source": [
        "df = pd.read_csv('cumplimiento_precio.csv', index_col=0, sep=';', encoding='latin-1')\n",
        "df.head()"
      ],
      "metadata": {
        "colab": {
          "base_uri": "https://localhost:8080/",
          "height": 238
        },
        "id": "LF-zS92553tq",
        "outputId": "17ee0c09-a08a-4ca5-925f-712a3441f79f"
      },
      "execution_count": null,
      "outputs": [
        {
          "output_type": "execute_result",
          "data": {
            "text/plain": [
              "            Ola     Region                Gerencia                Canal  \\\n",
              "Cons                                                                      \n",
              "1     diciembre   CO Andes          CO GC Suroeste    IH SF Minimercado   \n",
              "2     diciembre  CO Centro         CO GC Tocancipa    IH SF Minimercado   \n",
              "3     diciembre  CO Centro         CO GC Tocancipa       IH SF Licorera   \n",
              "4     diciembre   CO Andes  CO GC B/manga Mtrpltna  IH SF Tienda Barrio   \n",
              "5     diciembre     CO Sur             CO GC Neiva       IH SF Licorera   \n",
              "\n",
              "      ID_Cliente  Cumplimiento  Adherencia_Mensual  \n",
              "Cons                                                \n",
              "1       11748533           0.0                 0.0  \n",
              "2       18495688          40.0                40.0  \n",
              "3       19457417          75.0                75.0  \n",
              "4       14966735          28.6                33.3  \n",
              "5       19949947          33.3                33.3  "
            ],
            "text/html": [
              "\n",
              "  <div id=\"df-b8927688-2b9e-4b35-a5ae-0109895de780\">\n",
              "    <div class=\"colab-df-container\">\n",
              "      <div>\n",
              "<style scoped>\n",
              "    .dataframe tbody tr th:only-of-type {\n",
              "        vertical-align: middle;\n",
              "    }\n",
              "\n",
              "    .dataframe tbody tr th {\n",
              "        vertical-align: top;\n",
              "    }\n",
              "\n",
              "    .dataframe thead th {\n",
              "        text-align: right;\n",
              "    }\n",
              "</style>\n",
              "<table border=\"1\" class=\"dataframe\">\n",
              "  <thead>\n",
              "    <tr style=\"text-align: right;\">\n",
              "      <th></th>\n",
              "      <th>Ola</th>\n",
              "      <th>Region</th>\n",
              "      <th>Gerencia</th>\n",
              "      <th>Canal</th>\n",
              "      <th>ID_Cliente</th>\n",
              "      <th>Cumplimiento</th>\n",
              "      <th>Adherencia_Mensual</th>\n",
              "    </tr>\n",
              "    <tr>\n",
              "      <th>Cons</th>\n",
              "      <th></th>\n",
              "      <th></th>\n",
              "      <th></th>\n",
              "      <th></th>\n",
              "      <th></th>\n",
              "      <th></th>\n",
              "      <th></th>\n",
              "    </tr>\n",
              "  </thead>\n",
              "  <tbody>\n",
              "    <tr>\n",
              "      <th>1</th>\n",
              "      <td>diciembre</td>\n",
              "      <td>CO Andes</td>\n",
              "      <td>CO GC Suroeste</td>\n",
              "      <td>IH SF Minimercado</td>\n",
              "      <td>11748533</td>\n",
              "      <td>0.0</td>\n",
              "      <td>0.0</td>\n",
              "    </tr>\n",
              "    <tr>\n",
              "      <th>2</th>\n",
              "      <td>diciembre</td>\n",
              "      <td>CO Centro</td>\n",
              "      <td>CO GC Tocancipa</td>\n",
              "      <td>IH SF Minimercado</td>\n",
              "      <td>18495688</td>\n",
              "      <td>40.0</td>\n",
              "      <td>40.0</td>\n",
              "    </tr>\n",
              "    <tr>\n",
              "      <th>3</th>\n",
              "      <td>diciembre</td>\n",
              "      <td>CO Centro</td>\n",
              "      <td>CO GC Tocancipa</td>\n",
              "      <td>IH SF Licorera</td>\n",
              "      <td>19457417</td>\n",
              "      <td>75.0</td>\n",
              "      <td>75.0</td>\n",
              "    </tr>\n",
              "    <tr>\n",
              "      <th>4</th>\n",
              "      <td>diciembre</td>\n",
              "      <td>CO Andes</td>\n",
              "      <td>CO GC B/manga Mtrpltna</td>\n",
              "      <td>IH SF Tienda Barrio</td>\n",
              "      <td>14966735</td>\n",
              "      <td>28.6</td>\n",
              "      <td>33.3</td>\n",
              "    </tr>\n",
              "    <tr>\n",
              "      <th>5</th>\n",
              "      <td>diciembre</td>\n",
              "      <td>CO Sur</td>\n",
              "      <td>CO GC Neiva</td>\n",
              "      <td>IH SF Licorera</td>\n",
              "      <td>19949947</td>\n",
              "      <td>33.3</td>\n",
              "      <td>33.3</td>\n",
              "    </tr>\n",
              "  </tbody>\n",
              "</table>\n",
              "</div>\n",
              "      <button class=\"colab-df-convert\" onclick=\"convertToInteractive('df-b8927688-2b9e-4b35-a5ae-0109895de780')\"\n",
              "              title=\"Convert this dataframe to an interactive table.\"\n",
              "              style=\"display:none;\">\n",
              "        \n",
              "  <svg xmlns=\"http://www.w3.org/2000/svg\" height=\"24px\"viewBox=\"0 0 24 24\"\n",
              "       width=\"24px\">\n",
              "    <path d=\"M0 0h24v24H0V0z\" fill=\"none\"/>\n",
              "    <path d=\"M18.56 5.44l.94 2.06.94-2.06 2.06-.94-2.06-.94-.94-2.06-.94 2.06-2.06.94zm-11 1L8.5 8.5l.94-2.06 2.06-.94-2.06-.94L8.5 2.5l-.94 2.06-2.06.94zm10 10l.94 2.06.94-2.06 2.06-.94-2.06-.94-.94-2.06-.94 2.06-2.06.94z\"/><path d=\"M17.41 7.96l-1.37-1.37c-.4-.4-.92-.59-1.43-.59-.52 0-1.04.2-1.43.59L10.3 9.45l-7.72 7.72c-.78.78-.78 2.05 0 2.83L4 21.41c.39.39.9.59 1.41.59.51 0 1.02-.2 1.41-.59l7.78-7.78 2.81-2.81c.8-.78.8-2.07 0-2.86zM5.41 20L4 18.59l7.72-7.72 1.47 1.35L5.41 20z\"/>\n",
              "  </svg>\n",
              "      </button>\n",
              "      \n",
              "  <style>\n",
              "    .colab-df-container {\n",
              "      display:flex;\n",
              "      flex-wrap:wrap;\n",
              "      gap: 12px;\n",
              "    }\n",
              "\n",
              "    .colab-df-convert {\n",
              "      background-color: #E8F0FE;\n",
              "      border: none;\n",
              "      border-radius: 50%;\n",
              "      cursor: pointer;\n",
              "      display: none;\n",
              "      fill: #1967D2;\n",
              "      height: 32px;\n",
              "      padding: 0 0 0 0;\n",
              "      width: 32px;\n",
              "    }\n",
              "\n",
              "    .colab-df-convert:hover {\n",
              "      background-color: #E2EBFA;\n",
              "      box-shadow: 0px 1px 2px rgba(60, 64, 67, 0.3), 0px 1px 3px 1px rgba(60, 64, 67, 0.15);\n",
              "      fill: #174EA6;\n",
              "    }\n",
              "\n",
              "    [theme=dark] .colab-df-convert {\n",
              "      background-color: #3B4455;\n",
              "      fill: #D2E3FC;\n",
              "    }\n",
              "\n",
              "    [theme=dark] .colab-df-convert:hover {\n",
              "      background-color: #434B5C;\n",
              "      box-shadow: 0px 1px 3px 1px rgba(0, 0, 0, 0.15);\n",
              "      filter: drop-shadow(0px 1px 2px rgba(0, 0, 0, 0.3));\n",
              "      fill: #FFFFFF;\n",
              "    }\n",
              "  </style>\n",
              "\n",
              "      <script>\n",
              "        const buttonEl =\n",
              "          document.querySelector('#df-b8927688-2b9e-4b35-a5ae-0109895de780 button.colab-df-convert');\n",
              "        buttonEl.style.display =\n",
              "          google.colab.kernel.accessAllowed ? 'block' : 'none';\n",
              "\n",
              "        async function convertToInteractive(key) {\n",
              "          const element = document.querySelector('#df-b8927688-2b9e-4b35-a5ae-0109895de780');\n",
              "          const dataTable =\n",
              "            await google.colab.kernel.invokeFunction('convertToInteractive',\n",
              "                                                     [key], {});\n",
              "          if (!dataTable) return;\n",
              "\n",
              "          const docLinkHtml = 'Like what you see? Visit the ' +\n",
              "            '<a target=\"_blank\" href=https://colab.research.google.com/notebooks/data_table.ipynb>data table notebook</a>'\n",
              "            + ' to learn more about interactive tables.';\n",
              "          element.innerHTML = '';\n",
              "          dataTable['output_type'] = 'display_data';\n",
              "          await google.colab.output.renderOutput(dataTable, element);\n",
              "          const docLink = document.createElement('div');\n",
              "          docLink.innerHTML = docLinkHtml;\n",
              "          element.appendChild(docLink);\n",
              "        }\n",
              "      </script>\n",
              "    </div>\n",
              "  </div>\n",
              "  "
            ]
          },
          "metadata": {},
          "execution_count": 2
        }
      ]
    },
    {
      "cell_type": "code",
      "source": [
        "df.dtypes"
      ],
      "metadata": {
        "colab": {
          "base_uri": "https://localhost:8080/"
        },
        "id": "_RkkBiDeh3ku",
        "outputId": "bb6f05d4-63fb-4fdc-cc3c-ffca153d23a3"
      },
      "execution_count": null,
      "outputs": [
        {
          "output_type": "execute_result",
          "data": {
            "text/plain": [
              "Ola                    object\n",
              "Region                 object\n",
              "Gerencia               object\n",
              "Canal                  object\n",
              "ID_Cliente              int64\n",
              "Cumplimiento          float64\n",
              "Adherencia_Mensual    float64\n",
              "dtype: object"
            ]
          },
          "metadata": {},
          "execution_count": 107
        }
      ]
    },
    {
      "cell_type": "markdown",
      "source": [
        "![DESCRIPCIÓN VARIABLES.PNG](data:image/png;base64,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)"
      ],
      "metadata": {
        "id": "Q6GnwD-t5uvI"
      }
    },
    {
      "cell_type": "code",
      "source": [
        "df['Cumplimiento'] = df['Cumplimiento'].astype(float) \n",
        "df['Adherencia_Mensual'] = df['Adherencia_Mensual'].astype(float) \n"
      ],
      "metadata": {
        "id": "5fQvBYbai6tl"
      },
      "execution_count": null,
      "outputs": []
    },
    {
      "cell_type": "code",
      "source": [
        "df.dtypes"
      ],
      "metadata": {
        "colab": {
          "base_uri": "https://localhost:8080/"
        },
        "id": "UataCzUdkIHO",
        "outputId": "df7aa566-22db-4f94-fd73-a1093eededaa"
      },
      "execution_count": null,
      "outputs": [
        {
          "output_type": "execute_result",
          "data": {
            "text/plain": [
              "Ola                    object\n",
              "Gerencia               object\n",
              "Canal                  object\n",
              "ID_Cliente              int64\n",
              "Cumplimiento          float64\n",
              "Adherencia_Mensual    float64\n",
              "dtype: object"
            ]
          },
          "metadata": {},
          "execution_count": 105
        }
      ]
    },
    {
      "cell_type": "markdown",
      "source": [
        "# **BLOXPLOT**"
      ],
      "metadata": {
        "id": "hRe0hbCvcQKA"
      }
    },
    {
      "cell_type": "code",
      "source": [
        "df[('Cumplimiento')].mean()\n",
        "\n"
      ],
      "metadata": {
        "colab": {
          "base_uri": "https://localhost:8080/"
        },
        "id": "JhsmFzuJ-1iZ",
        "outputId": "6da0ac8a-fc34-45f1-cfc0-04e61582087d"
      },
      "execution_count": null,
      "outputs": [
        {
          "output_type": "execute_result",
          "data": {
            "text/plain": [
              "54.68137837837838"
            ]
          },
          "metadata": {},
          "execution_count": 3
        }
      ]
    },
    {
      "cell_type": "code",
      "source": [
        "print(df[('Region')].unique())"
      ],
      "metadata": {
        "colab": {
          "base_uri": "https://localhost:8080/"
        },
        "id": "8DT0nXuW4eVe",
        "outputId": "c92b7037-8538-42a7-bb95-ffc3c9e5f4b8"
      },
      "execution_count": null,
      "outputs": [
        {
          "output_type": "stream",
          "name": "stdout",
          "text": [
            "['CO Andes' 'CO Centro' 'CO Sur' 'CO Norte']\n"
          ]
        }
      ]
    },
    {
      "cell_type": "code",
      "source": [
        "sns.set(style=\"whitegrid\")\n",
        "sns.boxplot(x=df['Cumplimiento'],y=df['Region'])\n",
        "\n",
        "plt.axvline(df['Cumplimiento'].mean(), c='r') # la linea roja refleja el promedio del cumplimiento"
      ],
      "metadata": {
        "id": "FSewzjMnFNl_",
        "colab": {
          "base_uri": "https://localhost:8080/",
          "height": 302
        },
        "outputId": "8c66d671-8753-4361-a617-27e4f647d8f0"
      },
      "execution_count": null,
      "outputs": [
        {
          "output_type": "execute_result",
          "data": {
            "text/plain": [
              "<matplotlib.lines.Line2D at 0x7ff282c9d730>"
            ]
          },
          "metadata": {},
          "execution_count": 232
        },
        {
          "output_type": "display_data",
          "data": {
            "text/plain": [
              "<Figure size 432x288 with 1 Axes>"
            ],
            "image/png": "[encoded data removed]"
          },
          "metadata": {}
        }
      ]
    },
    {
      "cell_type": "markdown",
      "source": [
        "Utilice un boxplot para analizar la distribución de la variable númerica cumplimiento de precio, no identifique valores atipicos y para la region Andes la mayoria de los datos estan concentrados por debajo del valor promedio, para Centro la mayoria de los datos estan concentrados por encima de promedio, para Sur la mayoria de los datos estan concentrados por debajo del promedio y para Norte la mayoria de los datos estan concentrados por debajo del promedio.\n",
        "\n",
        "Dentro del rango total de los datos, la distribución que tiende hacia un cumplimiento menor. Los datos en general están poco dispersos.\n",
        "\n",
        "\n",
        "\n"
      ],
      "metadata": {
        "id": "ePKqsPMp4OOf"
      }
    },
    {
      "cell_type": "markdown",
      "source": [
        "# **HISTOGRAMA**"
      ],
      "metadata": {
        "id": "00HD0iIjcwiR"
      }
    },
    {
      "cell_type": "code",
      "source": [
        "#filtro = df[(df['Cumplimiento']!= 100) & (df['Cumplimiento'] != 0)]  #quitando valores extremos\n",
        " \n",
        "filtro = df[ (df['Cumplimiento'] != 0)  & (df['Cumplimiento'] <50)]\n",
        "\n",
        "ax =sns.histplot(filtro['Cumplimiento'], kde=False, bins=10,color=\"Green\")\n",
        "ax.set(title='Cumplimiento Precio', xlabel='Nota Cumplimiento', ylabel='Cantidad PDVs');\n",
        "\n",
        "\n",
        "#analisis por separado cumplimiento menor a 50 y cumplimiento mayor a 50 quitando los valores extremos\n"
      ],
      "metadata": {
        "colab": {
          "base_uri": "https://localhost:8080/",
          "height": 295
        },
        "id": "0e9Of8cl8mRF",
        "outputId": "88cd0c5c-4b05-4e70-ed97-7ac1a5d6e535"
      },
      "execution_count": null,
      "outputs": [
        {
          "output_type": "display_data",
          "data": {
            "text/plain": [
              "<Figure size 432x288 with 1 Axes>"
            ],
            "image/png": "[encoded data removed]"
          },
          "metadata": {
            "needs_background": "light"
          }
        }
      ]
    },
    {
      "cell_type": "code",
      "source": [
        "filtro = df[ (df['Cumplimiento'] >50) & (df['Cumplimiento']!= 100)]\n",
        "\n",
        "ax =sns.histplot(filtro['Cumplimiento'], kde=False, bins=10,color=\"Green\")\n",
        "ax.set(title='Cumplimiento Precio', xlabel='Nota Cumplimiento', ylabel='Cantidad PDVs');\n"
      ],
      "metadata": {
        "colab": {
          "base_uri": "https://localhost:8080/",
          "height": 295
        },
        "id": "66z5UN0vFL2m",
        "outputId": "d3c8ea68-9bf2-452b-c4d7-66c765a27317"
      },
      "execution_count": null,
      "outputs": [
        {
          "output_type": "display_data",
          "data": {
            "text/plain": [
              "<Figure size 432x288 with 1 Axes>"
            ],
            "image/png": "[encoded data removed]"
          },
          "metadata": {
            "needs_background": "light"
          }
        }
      ]
    },
    {
      "cell_type": "code",
      "source": [
        "datos = filtro['Cumplimiento']\n",
        "print(f'Curtosis: {kurtosis(datos)}')\n",
        "print(f'Asimetría: {skew(datos)}')"
      ],
      "metadata": {
        "colab": {
          "base_uri": "https://localhost:8080/"
        },
        "id": "Eg3YDOArpcsx",
        "outputId": "c78b4c38-8b28-4598-b359-2f37855a392e"
      },
      "execution_count": null,
      "outputs": [
        {
          "output_type": "stream",
          "name": "stdout",
          "text": [
            "Curtosis: -0.9933142992632042\n",
            "Asimetría: -0.3782316101222332\n"
          ]
        }
      ]
    },
    {
      "cell_type": "markdown",
      "source": [
        "En el eje y se observa la frecuencia asociada a la cantidad de pdvs frente a la distribucion del cumplimiento. Se visualizan más concentraciones de valores en los datos, tendria una distribución multimodal.\n",
        "Asimetria: La asimetría que se visualiza nos da una medida de la falta de simetría en la distribución. \n",
        "Curtosis: en esta medida de la dispersión de los datos,la curtosis muestra que no está achatada la distribución."
      ],
      "metadata": {
        "id": "UdU4gZOg87bT"
      }
    },
    {
      "cell_type": "markdown",
      "source": [
        "# **Gráfica de barras**"
      ],
      "metadata": {
        "id": "MQ5wtnCPmAIz"
      }
    },
    {
      "cell_type": "code",
      "source": [
        "counts = df['Canal'].value_counts()\n",
        "counts\n"
      ],
      "metadata": {
        "colab": {
          "base_uri": "https://localhost:8080/"
        },
        "id": "Lx6uJWylAJ-Y",
        "outputId": "5d637b96-03cd-4795-b75a-e4dd3152a9a8"
      },
      "execution_count": null,
      "outputs": [
        {
          "output_type": "execute_result",
          "data": {
            "text/plain": [
              "IH SF Tienda Barrio     6123\n",
              "OOH DL Tienda Social    3025\n",
              "IH SF Licorera          1488\n",
              "IH SF Minimercado        464\n",
              "Name: Canal, dtype: int64"
            ]
          },
          "metadata": {},
          "execution_count": 235
        }
      ]
    },
    {
      "cell_type": "code",
      "source": [
        "as_percentages = counts * 100 / counts.sum()\n",
        "\n",
        "ax = sns.barplot(x=as_percentages.index,y=as_percentages)\n",
        "ax.set_title('Cantidad PDVs por Canal')\n",
        "ax.set(ylabel='porcentaje del total')\n",
        "ax.set_xticklabels(ax.get_xticklabels(), rotation=50);\n"
      ],
      "metadata": {
        "colab": {
          "base_uri": "https://localhost:8080/",
          "height": 373
        },
        "id": "vwSnaE2MAZyJ",
        "outputId": "70328437-8393-4748-b0c4-8e5944a47cc5"
      },
      "execution_count": null,
      "outputs": [
        {
          "output_type": "display_data",
          "data": {
            "text/plain": [
              "<Figure size 432x288 with 1 Axes>"
            ],
            "image/png": "[encoded data removed]"
          },
          "metadata": {}
        }
      ]
    },
    {
      "cell_type": "markdown",
      "source": [
        "# **Graficando con múltiples axis**"
      ],
      "metadata": {
        "id": "-MiDoe9gB6yh"
      }
    },
    {
      "cell_type": "code",
      "source": [
        "crosstab = pd.crosstab(df['Region'], df['Canal'])\n",
        "\n",
        "crosstab\n",
        "\n",
        "\n",
        "#crosstab = pd.crosstab(df['Adherencia_Mensual'], [df['Ola'],df['Region']],margins=True, margins_name='Total')\n"
      ],
      "metadata": {
        "colab": {
          "base_uri": "https://localhost:8080/",
          "height": 206
        },
        "id": "awj2hFwyCAMg",
        "outputId": "4b32ca20-1cc2-4aa6-e420-e4d19cfd831a"
      },
      "execution_count": null,
      "outputs": [
        {
          "output_type": "execute_result",
          "data": {
            "text/plain": [
              "Canal      IH SF Licorera  IH SF Minimercado  IH SF Tienda Barrio  \\\n",
              "Region                                                              \n",
              "CO Andes              279                142                 1422   \n",
              "CO Centro             288                169                 1402   \n",
              "CO Norte              486                 57                 1655   \n",
              "CO Sur                435                 96                 1644   \n",
              "\n",
              "Canal      OOH DL Tienda Social  \n",
              "Region                           \n",
              "CO Andes                    576  \n",
              "CO Centro                  1586  \n",
              "CO Norte                    318  \n",
              "CO Sur                      545  "
            ],
            "text/html": [
              "\n",
              "  <div id=\"df-23bfa532-4032-43a4-9ffb-be28829812c9\">\n",
              "    <div class=\"colab-df-container\">\n",
              "      <div>\n",
              "<style scoped>\n",
              "    .dataframe tbody tr th:only-of-type {\n",
              "        vertical-align: middle;\n",
              "    }\n",
              "\n",
              "    .dataframe tbody tr th {\n",
              "        vertical-align: top;\n",
              "    }\n",
              "\n",
              "    .dataframe thead th {\n",
              "        text-align: right;\n",
              "    }\n",
              "</style>\n",
              "<table border=\"1\" class=\"dataframe\">\n",
              "  <thead>\n",
              "    <tr style=\"text-align: right;\">\n",
              "      <th>Canal</th>\n",
              "      <th>IH SF Licorera</th>\n",
              "      <th>IH SF Minimercado</th>\n",
              "      <th>IH SF Tienda Barrio</th>\n",
              "      <th>OOH DL Tienda Social</th>\n",
              "    </tr>\n",
              "    <tr>\n",
              "      <th>Region</th>\n",
              "      <th></th>\n",
              "      <th></th>\n",
              "      <th></th>\n",
              "      <th></th>\n",
              "    </tr>\n",
              "  </thead>\n",
              "  <tbody>\n",
              "    <tr>\n",
              "      <th>CO Andes</th>\n",
              "      <td>279</td>\n",
              "      <td>142</td>\n",
              "      <td>1422</td>\n",
              "      <td>576</td>\n",
              "    </tr>\n",
              "    <tr>\n",
              "      <th>CO Centro</th>\n",
              "      <td>288</td>\n",
              "      <td>169</td>\n",
              "      <td>1402</td>\n",
              "      <td>1586</td>\n",
              "    </tr>\n",
              "    <tr>\n",
              "      <th>CO Norte</th>\n",
              "      <td>486</td>\n",
              "      <td>57</td>\n",
              "      <td>1655</td>\n",
              "      <td>318</td>\n",
              "    </tr>\n",
              "    <tr>\n",
              "      <th>CO Sur</th>\n",
              "      <td>435</td>\n",
              "      <td>96</td>\n",
              "      <td>1644</td>\n",
              "      <td>545</td>\n",
              "    </tr>\n",
              "  </tbody>\n",
              "</table>\n",
              "</div>\n",
              "      <button class=\"colab-df-convert\" onclick=\"convertToInteractive('df-23bfa532-4032-43a4-9ffb-be28829812c9')\"\n",
              "              title=\"Convert this dataframe to an interactive table.\"\n",
              "              style=\"display:none;\">\n",
              "        \n",
              "  <svg xmlns=\"http://www.w3.org/2000/svg\" height=\"24px\"viewBox=\"0 0 24 24\"\n",
              "       width=\"24px\">\n",
              "    <path d=\"M0 0h24v24H0V0z\" fill=\"none\"/>\n",
              "    <path d=\"M18.56 5.44l.94 2.06.94-2.06 2.06-.94-2.06-.94-.94-2.06-.94 2.06-2.06.94zm-11 1L8.5 8.5l.94-2.06 2.06-.94-2.06-.94L8.5 2.5l-.94 2.06-2.06.94zm10 10l.94 2.06.94-2.06 2.06-.94-2.06-.94-.94-2.06-.94 2.06-2.06.94z\"/><path d=\"M17.41 7.96l-1.37-1.37c-.4-.4-.92-.59-1.43-.59-.52 0-1.04.2-1.43.59L10.3 9.45l-7.72 7.72c-.78.78-.78 2.05 0 2.83L4 21.41c.39.39.9.59 1.41.59.51 0 1.02-.2 1.41-.59l7.78-7.78 2.81-2.81c.8-.78.8-2.07 0-2.86zM5.41 20L4 18.59l7.72-7.72 1.47 1.35L5.41 20z\"/>\n",
              "  </svg>\n",
              "      </button>\n",
              "      \n",
              "  <style>\n",
              "    .colab-df-container {\n",
              "      display:flex;\n",
              "      flex-wrap:wrap;\n",
              "      gap: 12px;\n",
              "    }\n",
              "\n",
              "    .colab-df-convert {\n",
              "      background-color: #E8F0FE;\n",
              "      border: none;\n",
              "      border-radius: 50%;\n",
              "      cursor: pointer;\n",
              "      display: none;\n",
              "      fill: #1967D2;\n",
              "      height: 32px;\n",
              "      padding: 0 0 0 0;\n",
              "      width: 32px;\n",
              "    }\n",
              "\n",
              "    .colab-df-convert:hover {\n",
              "      background-color: #E2EBFA;\n",
              "      box-shadow: 0px 1px 2px rgba(60, 64, 67, 0.3), 0px 1px 3px 1px rgba(60, 64, 67, 0.15);\n",
              "      fill: #174EA6;\n",
              "    }\n",
              "\n",
              "    [theme=dark] .colab-df-convert {\n",
              "      background-color: #3B4455;\n",
              "      fill: #D2E3FC;\n",
              "    }\n",
              "\n",
              "    [theme=dark] .colab-df-convert:hover {\n",
              "      background-color: #434B5C;\n",
              "      box-shadow: 0px 1px 3px 1px rgba(0, 0, 0, 0.15);\n",
              "      filter: drop-shadow(0px 1px 2px rgba(0, 0, 0, 0.3));\n",
              "      fill: #FFFFFF;\n",
              "    }\n",
              "  </style>\n",
              "\n",
              "      <script>\n",
              "        const buttonEl =\n",
              "          document.querySelector('#df-23bfa532-4032-43a4-9ffb-be28829812c9 button.colab-df-convert');\n",
              "        buttonEl.style.display =\n",
              "          google.colab.kernel.accessAllowed ? 'block' : 'none';\n",
              "\n",
              "        async function convertToInteractive(key) {\n",
              "          const element = document.querySelector('#df-23bfa532-4032-43a4-9ffb-be28829812c9');\n",
              "          const dataTable =\n",
              "            await google.colab.kernel.invokeFunction('convertToInteractive',\n",
              "                                                     [key], {});\n",
              "          if (!dataTable) return;\n",
              "\n",
              "          const docLinkHtml = 'Like what you see? Visit the ' +\n",
              "            '<a target=\"_blank\" href=https://colab.research.google.com/notebooks/data_table.ipynb>data table notebook</a>'\n",
              "            + ' to learn more about interactive tables.';\n",
              "          element.innerHTML = '';\n",
              "          dataTable['output_type'] = 'display_data';\n",
              "          await google.colab.output.renderOutput(dataTable, element);\n",
              "          const docLink = document.createElement('div');\n",
              "          docLink.innerHTML = docLinkHtml;\n",
              "          element.appendChild(docLink);\n",
              "        }\n",
              "      </script>\n",
              "    </div>\n",
              "  </div>\n",
              "  "
            ]
          },
          "metadata": {},
          "execution_count": 237
        }
      ]
    },
    {
      "cell_type": "code",
      "source": [
        "fig, axes = plt.subplots(2, 2)"
      ],
      "metadata": {
        "colab": {
          "base_uri": "https://localhost:8080/",
          "height": 272
        },
        "id": "mmrd-eoyCfA4",
        "outputId": "8d9f1fc3-faab-4cb0-dde2-b31b9d552c76"
      },
      "execution_count": null,
      "outputs": [
        {
          "output_type": "display_data",
          "data": {
            "text/plain": [
              "<Figure size 432x288 with 4 Axes>"
            ],
            "image/png": "[encoded data removed]"
          },
          "metadata": {}
        }
      ]
    },
    {
      "cell_type": "code",
      "source": [
        "fig, axes = plt.subplots(2, 2, figsize=(10, 8), sharex=True, sharey=True)\n",
        "\n",
        "sns.barplot(x=crosstab.columns, y=crosstab.loc['CO Andes'], ax=axes[0, 0])\n",
        "sns.barplot(x=crosstab.columns, y=crosstab.loc['CO Centro'], ax=axes[0, 1])\n",
        "sns.barplot(x=crosstab.columns, y=crosstab.loc['CO Norte'], ax=axes[1, 0])\n",
        "sns.barplot(x=crosstab.columns, y=crosstab.loc['CO Sur'], ax=axes[1, 1])\n",
        "\n",
        "axes[0, 0].set(xlabel='', ylabel='', title='Andes')\n",
        "axes[0, 1].set(xlabel='', ylabel='', title='Centro')\n",
        "axes[1, 0].set(xlabel='', ylabel='', title='Norte')\n",
        "axes[1, 1].set(xlabel='', ylabel='', title='Sur')\n",
        "\n",
        "\n",
        "fig.suptitle('PDVs por Region por Canal', fontsize=15);\n",
        "fig.autofmt_xdate(rotation=45)"
      ],
      "metadata": {
        "colab": {
          "base_uri": "https://localhost:8080/",
          "height": 582
        },
        "id": "kKMZQSRBCWgI",
        "outputId": "3d3364b5-5e16-49e2-abb2-70f80ebcf759"
      },
      "execution_count": null,
      "outputs": [
        {
          "output_type": "display_data",
          "data": {
            "text/plain": [
              "<Figure size 720x576 with 4 Axes>"
            ],
            "image/png": "[encoded data removed]"
          },
          "metadata": {}
        }
      ]
    },
    {
      "cell_type": "markdown",
      "source": [
        "Permite comparar las gráficas de las regiones, aprovechando que se cuenta con el mismo eje.\n"
      ],
      "metadata": {
        "id": "jDqrkLqr2DSg"
      }
    },
    {
      "cell_type": "markdown",
      "source": [
        "# **Mapas de Calor**"
      ],
      "metadata": {
        "id": "IsAmciIqNp2P"
      }
    },
    {
      "cell_type": "code",
      "source": [
        "df = pd.read_csv('cumplimiento_detalle1.csv', index_col=0, sep=';', encoding='latin-1')\n",
        "\n",
        "\n",
        "df_filtered = df.drop(['Cumplimiento', 'EsCompetencia','PDV'], axis=1)\n",
        "df.head()"
      ],
      "metadata": {
        "colab": {
          "base_uri": "https://localhost:8080/",
          "height": 238
        },
        "id": "CW9FrAtkPpYV",
        "outputId": "3e218189-d627-413c-f66f-5f215e510ece"
      },
      "execution_count": null,
      "outputs": [
        {
          "output_type": "execute_result",
          "data": {
            "text/plain": [
              "               Ola        PDV     Region         Gerencia              Canal  \\\n",
              "ï»¿CONS                                                                        \n",
              "1.0      diciembre  1231591.0   CO Andes   CO GC Suroeste  IH SF Minimercado   \n",
              "2.0      diciembre  1928069.0   CO Andes   CO GC Suroeste  IH SF Minimercado   \n",
              "3.0      diciembre  1597814.0   CO Andes   CO GC Suroeste  IH SF Minimercado   \n",
              "4.0      diciembre  1020994.0  CO Centro  CO GC Tocancipa  IH SF Minimercado   \n",
              "5.0      diciembre  1031050.0  CO Centro  CO GC Tocancipa  IH SF Minimercado   \n",
              "\n",
              "                Marca  Cumplimiento  Precio_Auditado  Precio_Sugerido  \\\n",
              "ï»¿CONS                                                                 \n",
              "1.0            Aguila           0.0           4800.0           4000.0   \n",
              "2.0            Pilsen           0.0           2550.0           2400.0   \n",
              "3.0             Poker           0.0           4800.0           3500.0   \n",
              "4.0            Aguila         100.0           2200.0           2200.0   \n",
              "5.0      Aguila Light         100.0           2200.0           2200.0   \n",
              "\n",
              "         EsCompetencia  Universo  Muestra  RangoMin  RangoMax  \n",
              "ï»¿CONS                                                        \n",
              "1.0                0.0    1805.0     47.0    2956.0    6500.0  \n",
              "2.0                0.0    1805.0     47.0    1500.0    4500.0  \n",
              "3.0                0.0    1805.0     47.0    2956.0    6500.0  \n",
              "4.0                0.0    1531.0     41.0    1500.0    3600.0  \n",
              "5.0                0.0    1531.0     41.0    1500.0    3600.0  "
            ],
            "text/html": [
              "\n",
              "  <div id=\"df-0059805c-0fc2-45c6-85d4-d7a3ffec0908\">\n",
              "    <div class=\"colab-df-container\">\n",
              "      <div>\n",
              "<style scoped>\n",
              "    .dataframe tbody tr th:only-of-type {\n",
              "        vertical-align: middle;\n",
              "    }\n",
              "\n",
              "    .dataframe tbody tr th {\n",
              "        vertical-align: top;\n",
              "    }\n",
              "\n",
              "    .dataframe thead th {\n",
              "        text-align: right;\n",
              "    }\n",
              "</style>\n",
              "<table border=\"1\" class=\"dataframe\">\n",
              "  <thead>\n",
              "    <tr style=\"text-align: right;\">\n",
              "      <th></th>\n",
              "      <th>Ola</th>\n",
              "      <th>PDV</th>\n",
              "      <th>Region</th>\n",
              "      <th>Gerencia</th>\n",
              "      <th>Canal</th>\n",
              "      <th>Marca</th>\n",
              "      <th>Cumplimiento</th>\n",
              "      <th>Precio_Auditado</th>\n",
              "      <th>Precio_Sugerido</th>\n",
              "      <th>EsCompetencia</th>\n",
              "      <th>Universo</th>\n",
              "      <th>Muestra</th>\n",
              "      <th>RangoMin</th>\n",
              "      <th>RangoMax</th>\n",
              "    </tr>\n",
              "    <tr>\n",
              "      <th>ï»¿CONS</th>\n",
              "      <th></th>\n",
              "      <th></th>\n",
              "      <th></th>\n",
              "      <th></th>\n",
              "      <th></th>\n",
              "      <th></th>\n",
              "      <th></th>\n",
              "      <th></th>\n",
              "      <th></th>\n",
              "      <th></th>\n",
              "      <th></th>\n",
              "      <th></th>\n",
              "      <th></th>\n",
              "      <th></th>\n",
              "    </tr>\n",
              "  </thead>\n",
              "  <tbody>\n",
              "    <tr>\n",
              "      <th>1.0</th>\n",
              "      <td>diciembre</td>\n",
              "      <td>1231591.0</td>\n",
              "      <td>CO Andes</td>\n",
              "      <td>CO GC Suroeste</td>\n",
              "      <td>IH SF Minimercado</td>\n",
              "      <td>Aguila</td>\n",
              "      <td>0.0</td>\n",
              "      <td>4800.0</td>\n",
              "      <td>4000.0</td>\n",
              "      <td>0.0</td>\n",
              "      <td>1805.0</td>\n",
              "      <td>47.0</td>\n",
              "      <td>2956.0</td>\n",
              "      <td>6500.0</td>\n",
              "    </tr>\n",
              "    <tr>\n",
              "      <th>2.0</th>\n",
              "      <td>diciembre</td>\n",
              "      <td>1928069.0</td>\n",
              "      <td>CO Andes</td>\n",
              "      <td>CO GC Suroeste</td>\n",
              "      <td>IH SF Minimercado</td>\n",
              "      <td>Pilsen</td>\n",
              "      <td>0.0</td>\n",
              "      <td>2550.0</td>\n",
              "      <td>2400.0</td>\n",
              "      <td>0.0</td>\n",
              "      <td>1805.0</td>\n",
              "      <td>47.0</td>\n",
              "      <td>1500.0</td>\n",
              "      <td>4500.0</td>\n",
              "    </tr>\n",
              "    <tr>\n",
              "      <th>3.0</th>\n",
              "      <td>diciembre</td>\n",
              "      <td>1597814.0</td>\n",
              "      <td>CO Andes</td>\n",
              "      <td>CO GC Suroeste</td>\n",
              "      <td>IH SF Minimercado</td>\n",
              "      <td>Poker</td>\n",
              "      <td>0.0</td>\n",
              "      <td>4800.0</td>\n",
              "      <td>3500.0</td>\n",
              "      <td>0.0</td>\n",
              "      <td>1805.0</td>\n",
              "      <td>47.0</td>\n",
              "      <td>2956.0</td>\n",
              "      <td>6500.0</td>\n",
              "    </tr>\n",
              "    <tr>\n",
              "      <th>4.0</th>\n",
              "      <td>diciembre</td>\n",
              "      <td>1020994.0</td>\n",
              "      <td>CO Centro</td>\n",
              "      <td>CO GC Tocancipa</td>\n",
              "      <td>IH SF Minimercado</td>\n",
              "      <td>Aguila</td>\n",
              "      <td>100.0</td>\n",
              "      <td>2200.0</td>\n",
              "      <td>2200.0</td>\n",
              "      <td>0.0</td>\n",
              "      <td>1531.0</td>\n",
              "      <td>41.0</td>\n",
              "      <td>1500.0</td>\n",
              "      <td>3600.0</td>\n",
              "    </tr>\n",
              "    <tr>\n",
              "      <th>5.0</th>\n",
              "      <td>diciembre</td>\n",
              "      <td>1031050.0</td>\n",
              "      <td>CO Centro</td>\n",
              "      <td>CO GC Tocancipa</td>\n",
              "      <td>IH SF Minimercado</td>\n",
              "      <td>Aguila Light</td>\n",
              "      <td>100.0</td>\n",
              "      <td>2200.0</td>\n",
              "      <td>2200.0</td>\n",
              "      <td>0.0</td>\n",
              "      <td>1531.0</td>\n",
              "      <td>41.0</td>\n",
              "      <td>1500.0</td>\n",
              "      <td>3600.0</td>\n",
              "    </tr>\n",
              "  </tbody>\n",
              "</table>\n",
              "</div>\n",
              "      <button class=\"colab-df-convert\" onclick=\"convertToInteractive('df-0059805c-0fc2-45c6-85d4-d7a3ffec0908')\"\n",
              "              title=\"Convert this dataframe to an interactive table.\"\n",
              "              style=\"display:none;\">\n",
              "        \n",
              "  <svg xmlns=\"http://www.w3.org/2000/svg\" height=\"24px\"viewBox=\"0 0 24 24\"\n",
              "       width=\"24px\">\n",
              "    <path d=\"M0 0h24v24H0V0z\" fill=\"none\"/>\n",
              "    <path d=\"M18.56 5.44l.94 2.06.94-2.06 2.06-.94-2.06-.94-.94-2.06-.94 2.06-2.06.94zm-11 1L8.5 8.5l.94-2.06 2.06-.94-2.06-.94L8.5 2.5l-.94 2.06-2.06.94zm10 10l.94 2.06.94-2.06 2.06-.94-2.06-.94-.94-2.06-.94 2.06-2.06.94z\"/><path d=\"M17.41 7.96l-1.37-1.37c-.4-.4-.92-.59-1.43-.59-.52 0-1.04.2-1.43.59L10.3 9.45l-7.72 7.72c-.78.78-.78 2.05 0 2.83L4 21.41c.39.39.9.59 1.41.59.51 0 1.02-.2 1.41-.59l7.78-7.78 2.81-2.81c.8-.78.8-2.07 0-2.86zM5.41 20L4 18.59l7.72-7.72 1.47 1.35L5.41 20z\"/>\n",
              "  </svg>\n",
              "      </button>\n",
              "      \n",
              "  <style>\n",
              "    .colab-df-container {\n",
              "      display:flex;\n",
              "      flex-wrap:wrap;\n",
              "      gap: 12px;\n",
              "    }\n",
              "\n",
              "    .colab-df-convert {\n",
              "      background-color: #E8F0FE;\n",
              "      border: none;\n",
              "      border-radius: 50%;\n",
              "      cursor: pointer;\n",
              "      display: none;\n",
              "      fill: #1967D2;\n",
              "      height: 32px;\n",
              "      padding: 0 0 0 0;\n",
              "      width: 32px;\n",
              "    }\n",
              "\n",
              "    .colab-df-convert:hover {\n",
              "      background-color: #E2EBFA;\n",
              "      box-shadow: 0px 1px 2px rgba(60, 64, 67, 0.3), 0px 1px 3px 1px rgba(60, 64, 67, 0.15);\n",
              "      fill: #174EA6;\n",
              "    }\n",
              "\n",
              "    [theme=dark] .colab-df-convert {\n",
              "      background-color: #3B4455;\n",
              "      fill: #D2E3FC;\n",
              "    }\n",
              "\n",
              "    [theme=dark] .colab-df-convert:hover {\n",
              "      background-color: #434B5C;\n",
              "      box-shadow: 0px 1px 3px 1px rgba(0, 0, 0, 0.15);\n",
              "      filter: drop-shadow(0px 1px 2px rgba(0, 0, 0, 0.3));\n",
              "      fill: #FFFFFF;\n",
              "    }\n",
              "  </style>\n",
              "\n",
              "      <script>\n",
              "        const buttonEl =\n",
              "          document.querySelector('#df-0059805c-0fc2-45c6-85d4-d7a3ffec0908 button.colab-df-convert');\n",
              "        buttonEl.style.display =\n",
              "          google.colab.kernel.accessAllowed ? 'block' : 'none';\n",
              "\n",
              "        async function convertToInteractive(key) {\n",
              "          const element = document.querySelector('#df-0059805c-0fc2-45c6-85d4-d7a3ffec0908');\n",
              "          const dataTable =\n",
              "            await google.colab.kernel.invokeFunction('convertToInteractive',\n",
              "                                                     [key], {});\n",
              "          if (!dataTable) return;\n",
              "\n",
              "          const docLinkHtml = 'Like what you see? Visit the ' +\n",
              "            '<a target=\"_blank\" href=https://colab.research.google.com/notebooks/data_table.ipynb>data table notebook</a>'\n",
              "            + ' to learn more about interactive tables.';\n",
              "          element.innerHTML = '';\n",
              "          dataTable['output_type'] = 'display_data';\n",
              "          await google.colab.output.renderOutput(dataTable, element);\n",
              "          const docLink = document.createElement('div');\n",
              "          docLink.innerHTML = docLinkHtml;\n",
              "          element.appendChild(docLink);\n",
              "        }\n",
              "      </script>\n",
              "    </div>\n",
              "  </div>\n",
              "  "
            ]
          },
          "metadata": {},
          "execution_count": 154
        }
      ]
    },
    {
      "cell_type": "code",
      "source": [
        "plt.figure(figsize=(8, 6))\n",
        "ax = sns.heatmap(df_filtered.corr(), vmin=-1, vmax=1, annot=True, cmap=\"YlGnBu\", linewidths=.8)\n"
      ],
      "metadata": {
        "colab": {
          "base_uri": "https://localhost:8080/",
          "height": 448
        },
        "id": "ZYQt-P_7NvnF",
        "outputId": "aa728aa8-f985-4850-9d90-4e97b8aa5bf0"
      },
      "execution_count": null,
      "outputs": [
        {
          "output_type": "display_data",
          "data": {
            "text/plain": [
              "<Figure size 576x432 with 2 Axes>"
            ],
            "image/png": "[encoded data removed]"
          },
          "metadata": {
            "needs_background": "light"
          }
        }
      ]
    },
    {
      "cell_type": "markdown",
      "source": [
        "Se evidencia relación entre las variables precio_auditado vs precio_sugerido, los rangos min y max"
      ],
      "metadata": {
        "id": "XGbD9yUa3A0H"
      }
    },
    {
      "cell_type": "markdown",
      "source": [
        "# **Intervalos de confianza**"
      ],
      "metadata": {
        "id": "LaZXGDgIUzVT"
      }
    },
    {
      "cell_type": "code",
      "source": [
        "auditado = df['Precio_Auditado']\n",
        "\n",
        "means = []\n",
        "\n",
        "for i in range(2_000):\n",
        "    sample = auditado.sample(n=50, replace=True)\n",
        "    means.append(sample.mean())\n",
        "    \n",
        "serie_means = pd.Series(means)"
      ],
      "metadata": {
        "id": "qlLbk935rXRB"
      },
      "execution_count": null,
      "outputs": []
    },
    {
      "cell_type": "code",
      "source": [
        "limite_inferior = serie_means.quantile(0.025)\n",
        "limite_superior = serie_means.quantile(0.975)"
      ],
      "metadata": {
        "id": "DxuTwJ7PU0Ir"
      },
      "execution_count": null,
      "outputs": []
    },
    {
      "cell_type": "code",
      "source": [
        "print(f'Intervalo de 95% confianza de la media: {limite_inferior} < {auditado.mean()} < {limite_superior}')"
      ],
      "metadata": {
        "id": "U_QgxFYjr9Ra",
        "colab": {
          "base_uri": "https://localhost:8080/"
        },
        "outputId": "ea354bc9-3989-4b2b-8864-a44293413415"
      },
      "execution_count": null,
      "outputs": [
        {
          "output_type": "stream",
          "name": "stdout",
          "text": [
            "Intervalo de 95% confianza de la media: 2802.0 < 3062.027324240704 < 3356.0499999999997\n"
          ]
        }
      ]
    },
    {
      "cell_type": "code",
      "source": [
        "sns.histplot(serie_means, kde=False)\n",
        "plt.axvline(limite_inferior)\n",
        "\n",
        "plt.axvline(limite_superior);"
      ],
      "metadata": {
        "id": "OsP9nwx8sAGb",
        "colab": {
          "base_uri": "https://localhost:8080/",
          "height": 265
        },
        "outputId": "d59942d7-6190-4236-e887-caa12d95d937"
      },
      "execution_count": null,
      "outputs": [
        {
          "output_type": "display_data",
          "data": {
            "text/plain": [
              "<Figure size 432x288 with 1 Axes>"
            ],
            "image/png": "[encoded data removed]"
          },
          "metadata": {
            "needs_background": "light"
          }
        }
      ]
    },
    {
      "cell_type": "markdown",
      "source": [
        "El 95% de nuestras medias de los datos simulados se encuentra entre 2800 y 3350 (precios auditados se encuentran en ese rango)"
      ],
      "metadata": {
        "id": "wDXbcoC-aSat"
      }
    },
    {
      "cell_type": "markdown",
      "source": [
        "# **TREEMAPS**"
      ],
      "metadata": {
        "id": "3xoidHeWcipy"
      }
    },
    {
      "cell_type": "code",
      "source": [
        "#Contar los PDVs con cumplimiento\n",
        "df1=df.loc[(df['Cumplimiento']>0)]\n",
        "df_grouped = df1.groupby(['Region','Marca'], as_index=False)[['PDV']].count()\n",
        "filtro = df_grouped.groupby(['Region','Marca'])[['Region','Marca','PDV']].max()"
      ],
      "metadata": {
        "id": "4uNO6YrghJAK"
      },
      "execution_count": null,
      "outputs": []
    },
    {
      "cell_type": "code",
      "source": [
        "\n",
        "fig = px.treemap(filtro, path=[px.Constant('Cantidad PDVs con Cumplimiento Precio'),'Region','Marca'], values='PDV')\n",
        "#fig.data[0].textinfo='label +value'\n",
        "fig.show()\n",
        "\n",
        "fig.update_traces(root_color=\"lightgrey\")\n",
        "fig.update_layout(margin = dict(t=50, l=25, r=25, b=25))\n",
        "\n"
      ],
      "metadata": {
        "colab": {
          "base_uri": "https://localhost:8080/",
          "height": 1000
        },
        "id": "DcwHk9bo8Uvu",
        "outputId": "ec9e0089-7ade-46d1-9e72-e22900900e32"
      },
      "execution_count": null,
      "outputs": [
        {
          "output_type": "display_data",
          "data": {
            "text/html": [
              "<html>\n",
              "<head><meta charset=\"utf-8\" /></head>\n",
              "<body>\n",
              "    <div>            <script src=\"https://cdnjs.cloudflare.com/ajax/libs/mathjax/2.7.5/MathJax.js?config=TeX-AMS-MML_SVG\"></script><script type=\"text/javascript\">if (window.MathJax) {MathJax.Hub.Config({SVG: {font: \"STIX-Web\"}});}</script>                <script type=\"text/javascript\">window.PlotlyConfig = {MathJaxConfig: 'local'};</script>\n",
              "        <script src=\"https://cdn.plot.ly/plotly-2.8.3.min.js\"></script>                <div id=\"656636a3-ba85-41ac-b2a4-6945def60144\" class=\"plotly-graph-div\" style=\"height:525px; width:100%;\"></div>            <script type=\"text/javascript\">                                    window.PLOTLYENV=window.PLOTLYENV || {};                                    if (document.getElementById(\"656636a3-ba85-41ac-b2a4-6945def60144\")) {                    Plotly.newPlot(                        \"656636a3-ba85-41ac-b2a4-6945def60144\",                        [{\"branchvalues\":\"total\",\"domain\":{\"x\":[0.0,1.0],\"y\":[0.0,1.0]},\"hovertemplate\":\"labels=%{label}<br>PDV=%{value}<br>parent=%{parent}<br>id=%{id}<extra></extra>\",\"ids\":[\"Cantidad PDVs con Cumplimiento Precio/CO Andes/Aguila\",\"Cantidad PDVs con Cumplimiento Precio/CO Centro/Aguila\",\"Cantidad PDVs con Cumplimiento Precio/CO Norte/Aguila\",\"Cantidad PDVs con Cumplimiento Precio/CO Sur/Aguila\",\"Cantidad PDVs con Cumplimiento Precio/CO Andes/Aguila Light\",\"Cantidad PDVs con Cumplimiento Precio/CO Centro/Aguila Light\",\"Cantidad PDVs con Cumplimiento Precio/CO Norte/Aguila Light\",\"Cantidad PDVs con Cumplimiento Precio/CO Sur/Aguila Light\",\"Cantidad PDVs con Cumplimiento Precio/CO Andes/Andina\",\"Cantidad PDVs con Cumplimiento Precio/CO Centro/Andina\",\"Cantidad PDVs con Cumplimiento Precio/CO Norte/Andina\",\"Cantidad PDVs con Cumplimiento Precio/CO Sur/Andina\",\"Cantidad PDVs con Cumplimiento Precio/CO Centro/Andina Light\",\"Cantidad PDVs con Cumplimiento Precio/CO Andes/Becks\",\"Cantidad PDVs con Cumplimiento Precio/CO Norte/Becks\",\"Cantidad PDVs con Cumplimiento Precio/CO Sur/Becks\",\"Cantidad PDVs con Cumplimiento Precio/CO Andes/Budweiser\",\"Cantidad PDVs con Cumplimiento Precio/CO Centro/Budweiser\",\"Cantidad PDVs con Cumplimiento Precio/CO Norte/Budweiser\",\"Cantidad PDVs con Cumplimiento Precio/CO Sur/Budweiser\",\"Cantidad PDVs con Cumplimiento Precio/CO Norte/Club Colombia\",\"Cantidad PDVs con Cumplimiento Precio/CO Sur/Club Colombia\",\"Cantidad PDVs con Cumplimiento Precio/CO Andes/Coste\\u00c3\\u00b1a Bacana\",\"Cantidad PDVs con Cumplimiento Precio/CO Centro/Coste\\u00c3\\u00b1a Bacana\",\"Cantidad PDVs con Cumplimiento Precio/CO Norte/Coste\\u00c3\\u00b1a Bacana\",\"Cantidad PDVs con Cumplimiento Precio/CO Sur/Coste\\u00c3\\u00b1a Bacana\",\"Cantidad PDVs con Cumplimiento Precio/CO Andes/Heineken\",\"Cantidad PDVs con Cumplimiento Precio/CO Centro/Heineken\",\"Cantidad PDVs con Cumplimiento Precio/CO Norte/Heineken\",\"Cantidad PDVs con Cumplimiento Precio/CO Sur/Heineken\",\"Cantidad PDVs con Cumplimiento Precio/CO Norte/Miller Lite\",\"Cantidad PDVs con Cumplimiento Precio/CO Norte/Nativa\",\"Cantidad PDVs con Cumplimiento Precio/CO Andes/Pilsen\",\"Cantidad PDVs con Cumplimiento Precio/CO Andes/Poker\",\"Cantidad PDVs con Cumplimiento Precio/CO Centro/Poker\",\"Cantidad PDVs con Cumplimiento Precio/CO Norte/Poker\",\"Cantidad PDVs con Cumplimiento Precio/CO Sur/Poker\",\"Cantidad PDVs con Cumplimiento Precio/CO Andes\",\"Cantidad PDVs con Cumplimiento Precio/CO Centro\",\"Cantidad PDVs con Cumplimiento Precio/CO Norte\",\"Cantidad PDVs con Cumplimiento Precio/CO Sur\",\"Cantidad PDVs con Cumplimiento Precio\"],\"labels\":[\"Aguila\",\"Aguila\",\"Aguila\",\"Aguila\",\"Aguila Light\",\"Aguila Light\",\"Aguila Light\",\"Aguila Light\",\"Andina\",\"Andina\",\"Andina\",\"Andina\",\"Andina Light\",\"Becks\",\"Becks\",\"Becks\",\"Budweiser\",\"Budweiser\",\"Budweiser\",\"Budweiser\",\"Club Colombia\",\"Club Colombia\",\"Coste\\u00c3\\u00b1a Bacana\",\"Coste\\u00c3\\u00b1a Bacana\",\"Coste\\u00c3\\u00b1a Bacana\",\"Coste\\u00c3\\u00b1a Bacana\",\"Heineken\",\"Heineken\",\"Heineken\",\"Heineken\",\"Miller Lite\",\"Nativa\",\"Pilsen\",\"Poker\",\"Poker\",\"Poker\",\"Poker\",\"CO Andes\",\"CO Centro\",\"CO Norte\",\"CO Sur\",\"Cantidad PDVs con Cumplimiento Precio\"],\"name\":\"\",\"parents\":[\"Cantidad PDVs con Cumplimiento Precio/CO Andes\",\"Cantidad PDVs con Cumplimiento Precio/CO Centro\",\"Cantidad PDVs con Cumplimiento Precio/CO Norte\",\"Cantidad PDVs con Cumplimiento Precio/CO Sur\",\"Cantidad PDVs con Cumplimiento Precio/CO Andes\",\"Cantidad PDVs con Cumplimiento Precio/CO Centro\",\"Cantidad PDVs con Cumplimiento Precio/CO Norte\",\"Cantidad PDVs con Cumplimiento Precio/CO Sur\",\"Cantidad PDVs con Cumplimiento Precio/CO Andes\",\"Cantidad PDVs con Cumplimiento Precio/CO Centro\",\"Cantidad PDVs con Cumplimiento Precio/CO Norte\",\"Cantidad PDVs con Cumplimiento Precio/CO Sur\",\"Cantidad PDVs con Cumplimiento Precio/CO Centro\",\"Cantidad PDVs con Cumplimiento Precio/CO Andes\",\"Cantidad PDVs con Cumplimiento Precio/CO Norte\",\"Cantidad PDVs con Cumplimiento Precio/CO Sur\",\"Cantidad PDVs con Cumplimiento Precio/CO Andes\",\"Cantidad PDVs con Cumplimiento Precio/CO Centro\",\"Cantidad PDVs con Cumplimiento Precio/CO Norte\",\"Cantidad PDVs con Cumplimiento Precio/CO Sur\",\"Cantidad PDVs con Cumplimiento Precio/CO Norte\",\"Cantidad PDVs con Cumplimiento Precio/CO Sur\",\"Cantidad PDVs con Cumplimiento Precio/CO Andes\",\"Cantidad PDVs con Cumplimiento Precio/CO Centro\",\"Cantidad PDVs con Cumplimiento Precio/CO Norte\",\"Cantidad PDVs con Cumplimiento Precio/CO Sur\",\"Cantidad PDVs con Cumplimiento Precio/CO Andes\",\"Cantidad PDVs con Cumplimiento Precio/CO Centro\",\"Cantidad PDVs con Cumplimiento Precio/CO Norte\",\"Cantidad PDVs con Cumplimiento Precio/CO Sur\",\"Cantidad PDVs con Cumplimiento Precio/CO Norte\",\"Cantidad PDVs con Cumplimiento Precio/CO Norte\",\"Cantidad PDVs con Cumplimiento Precio/CO Andes\",\"Cantidad PDVs con Cumplimiento Precio/CO Andes\",\"Cantidad PDVs con Cumplimiento Precio/CO Centro\",\"Cantidad PDVs con Cumplimiento Precio/CO Norte\",\"Cantidad PDVs con Cumplimiento Precio/CO Sur\",\"Cantidad PDVs con Cumplimiento Precio\",\"Cantidad PDVs con Cumplimiento Precio\",\"Cantidad PDVs con Cumplimiento Precio\",\"Cantidad PDVs con Cumplimiento Precio\",\"\"],\"values\":[3615,5824,4197,1691,1548,1517,2237,1566,286,723,204,221,65,8,69,24,187,483,471,533,212,83,156,1464,118,808,46,78,66,33,35,121,1109,3029,6951,3076,4010,9984,17105,10806,8969,46864],\"type\":\"treemap\"}],                        {\"template\":{\"data\":{\"bar\":[{\"error_x\":{\"color\":\"#2a3f5f\"},\"error_y\":{\"color\":\"#2a3f5f\"},\"marker\":{\"line\":{\"color\":\"#E5ECF6\",\"width\":0.5},\"pattern\":{\"fillmode\":\"overlay\",\"size\":10,\"solidity\":0.2}},\"type\":\"bar\"}],\"barpolar\":[{\"marker\":{\"line\":{\"color\":\"#E5ECF6\",\"width\":0.5},\"pattern\":{\"fillmode\":\"overlay\",\"size\":10,\"solidity\":0.2}},\"type\":\"barpolar\"}],\"carpet\":[{\"aaxis\":{\"endlinecolor\":\"#2a3f5f\",\"gridcolor\":\"white\",\"linecolor\":\"white\",\"minorgridcolor\":\"white\",\"startlinecolor\":\"#2a3f5f\"},\"baxis\":{\"endlinecolor\":\"#2a3f5f\",\"gridcolor\":\"white\",\"linecolor\":\"white\",\"minorgridcolor\":\"white\",\"startlinecolor\":\"#2a3f5f\"},\"type\":\"carpet\"}],\"choropleth\":[{\"colorbar\":{\"outlinewidth\":0,\"ticks\":\"\"},\"type\":\"choropleth\"}],\"contour\":[{\"colorbar\":{\"outlinewidth\":0,\"ticks\":\"\"},\"colorscale\":[[0.0,\"#0d0887\"],[0.1111111111111111,\"#46039f\"],[0.2222222222222222,\"#7201a8\"],[0.3333333333333333,\"#9c179e\"],[0.4444444444444444,\"#bd3786\"],[0.5555555555555556,\"#d8576b\"],[0.6666666666666666,\"#ed7953\"],[0.7777777777777778,\"#fb9f3a\"],[0.8888888888888888,\"#fdca26\"],[1.0,\"#f0f921\"]],\"type\":\"contour\"}],\"contourcarpet\":[{\"colorbar\":{\"outlinewidth\":0,\"ticks\":\"\"},\"type\":\"contourcarpet\"}],\"heatmap\":[{\"colorbar\":{\"outlinewidth\":0,\"ticks\":\"\"},\"colorscale\":[[0.0,\"#0d0887\"],[0.1111111111111111,\"#46039f\"],[0.2222222222222222,\"#7201a8\"],[0.3333333333333333,\"#9c179e\"],[0.4444444444444444,\"#bd3786\"],[0.5555555555555556,\"#d8576b\"],[0.6666666666666666,\"#ed7953\"],[0.7777777777777778,\"#fb9f3a\"],[0.8888888888888888,\"#fdca26\"],[1.0,\"#f0f921\"]],\"type\":\"heatmap\"}],\"heatmapgl\":[{\"colorbar\":{\"outlinewidth\":0,\"ticks\":\"\"},\"colorscale\":[[0.0,\"#0d0887\"],[0.1111111111111111,\"#46039f\"],[0.2222222222222222,\"#7201a8\"],[0.3333333333333333,\"#9c179e\"],[0.4444444444444444,\"#bd3786\"],[0.5555555555555556,\"#d8576b\"],[0.6666666666666666,\"#ed7953\"],[0.7777777777777778,\"#fb9f3a\"],[0.8888888888888888,\"#fdca26\"],[1.0,\"#f0f921\"]],\"type\":\"heatmapgl\"}],\"histogram\":[{\"marker\":{\"pattern\":{\"fillmode\":\"overlay\",\"size\":10,\"solidity\":0.2}},\"type\":\"histogram\"}],\"histogram2d\":[{\"colorbar\":{\"outlinewidth\":0,\"ticks\":\"\"},\"colorscale\":[[0.0,\"#0d0887\"],[0.1111111111111111,\"#46039f\"],[0.2222222222222222,\"#7201a8\"],[0.3333333333333333,\"#9c179e\"],[0.4444444444444444,\"#bd3786\"],[0.5555555555555556,\"#d8576b\"],[0.6666666666666666,\"#ed7953\"],[0.7777777777777778,\"#fb9f3a\"],[0.8888888888888888,\"#fdca26\"],[1.0,\"#f0f921\"]],\"type\":\"histogram2d\"}],\"histogram2dcontour\":[{\"colorbar\":{\"outlinewidth\":0,\"ticks\":\"\"},\"colorscale\":[[0.0,\"#0d0887\"],[0.1111111111111111,\"#46039f\"],[0.2222222222222222,\"#7201a8\"],[0.3333333333333333,\"#9c179e\"],[0.4444444444444444,\"#bd3786\"],[0.5555555555555556,\"#d8576b\"],[0.6666666666666666,\"#ed7953\"],[0.7777777777777778,\"#fb9f3a\"],[0.8888888888888888,\"#fdca26\"],[1.0,\"#f0f921\"]],\"type\":\"histogram2dcontour\"}],\"mesh3d\":[{\"colorbar\":{\"outlinewidth\":0,\"ticks\":\"\"},\"type\":\"mesh3d\"}],\"parcoords\":[{\"line\":{\"colorbar\":{\"outlinewidth\":0,\"ticks\":\"\"}},\"type\":\"parcoords\"}],\"pie\":[{\"automargin\":true,\"type\":\"pie\"}],\"scatter\":[{\"marker\":{\"colorbar\":{\"outlinewidth\":0,\"ticks\":\"\"}},\"type\":\"scatter\"}],\"scatter3d\":[{\"line\":{\"colorbar\":{\"outlinewidth\":0,\"ticks\":\"\"}},\"marker\":{\"colorbar\":{\"outlinewidth\":0,\"ticks\":\"\"}},\"type\":\"scatter3d\"}],\"scattercarpet\":[{\"marker\":{\"colorbar\":{\"outlinewidth\":0,\"ticks\":\"\"}},\"type\":\"scattercarpet\"}],\"scattergeo\":[{\"marker\":{\"colorbar\":{\"outlinewidth\":0,\"ticks\":\"\"}},\"type\":\"scattergeo\"}],\"scattergl\":[{\"marker\":{\"colorbar\":{\"outlinewidth\":0,\"ticks\":\"\"}},\"type\":\"scattergl\"}],\"scattermapbox\":[{\"marker\":{\"colorbar\":{\"outlinewidth\":0,\"ticks\":\"\"}},\"type\":\"scattermapbox\"}],\"scatterpolar\":[{\"marker\":{\"colorbar\":{\"outlinewidth\":0,\"ticks\":\"\"}},\"type\":\"scatterpolar\"}],\"scatterpolargl\":[{\"marker\":{\"colorbar\":{\"outlinewidth\":0,\"ticks\":\"\"}},\"type\":\"scatterpolargl\"}],\"scatterternary\":[{\"marker\":{\"colorbar\":{\"outlinewidth\":0,\"ticks\":\"\"}},\"type\":\"scatterternary\"}],\"surface\":[{\"colorbar\":{\"outlinewidth\":0,\"ticks\":\"\"},\"colorscale\":[[0.0,\"#0d0887\"],[0.1111111111111111,\"#46039f\"],[0.2222222222222222,\"#7201a8\"],[0.3333333333333333,\"#9c179e\"],[0.4444444444444444,\"#bd3786\"],[0.5555555555555556,\"#d8576b\"],[0.6666666666666666,\"#ed7953\"],[0.7777777777777778,\"#fb9f3a\"],[0.8888888888888888,\"#fdca26\"],[1.0,\"#f0f921\"]],\"type\":\"surface\"}],\"table\":[{\"cells\":{\"fill\":{\"color\":\"#EBF0F8\"},\"line\":{\"color\":\"white\"}},\"header\":{\"fill\":{\"color\":\"#C8D4E3\"},\"line\":{\"color\":\"white\"}},\"type\":\"table\"}]},\"layout\":{\"annotationdefaults\":{\"arrowcolor\":\"#2a3f5f\",\"arrowhead\":0,\"arrowwidth\":1},\"autotypenumbers\":\"strict\",\"coloraxis\":{\"colorbar\":{\"outlinewidth\":0,\"ticks\":\"\"}},\"colorscale\":{\"diverging\":[[0,\"#8e0152\"],[0.1,\"#c51b7d\"],[0.2,\"#de77ae\"],[0.3,\"#f1b6da\"],[0.4,\"#fde0ef\"],[0.5,\"#f7f7f7\"],[0.6,\"#e6f5d0\"],[0.7,\"#b8e186\"],[0.8,\"#7fbc41\"],[0.9,\"#4d9221\"],[1,\"#276419\"]],\"sequential\":[[0.0,\"#0d0887\"],[0.1111111111111111,\"#46039f\"],[0.2222222222222222,\"#7201a8\"],[0.3333333333333333,\"#9c179e\"],[0.4444444444444444,\"#bd3786\"],[0.5555555555555556,\"#d8576b\"],[0.6666666666666666,\"#ed7953\"],[0.7777777777777778,\"#fb9f3a\"],[0.8888888888888888,\"#fdca26\"],[1.0,\"#f0f921\"]],\"sequentialminus\":[[0.0,\"#0d0887\"],[0.1111111111111111,\"#46039f\"],[0.2222222222222222,\"#7201a8\"],[0.3333333333333333,\"#9c179e\"],[0.4444444444444444,\"#bd3786\"],[0.5555555555555556,\"#d8576b\"],[0.6666666666666666,\"#ed7953\"],[0.7777777777777778,\"#fb9f3a\"],[0.8888888888888888,\"#fdca26\"],[1.0,\"#f0f921\"]]},\"colorway\":[\"#636efa\",\"#EF553B\",\"#00cc96\",\"#ab63fa\",\"#FFA15A\",\"#19d3f3\",\"#FF6692\",\"#B6E880\",\"#FF97FF\",\"#FECB52\"],\"font\":{\"color\":\"#2a3f5f\"},\"geo\":{\"bgcolor\":\"white\",\"lakecolor\":\"white\",\"landcolor\":\"#E5ECF6\",\"showlakes\":true,\"showland\":true,\"subunitcolor\":\"white\"},\"hoverlabel\":{\"align\":\"left\"},\"hovermode\":\"closest\",\"mapbox\":{\"style\":\"light\"},\"paper_bgcolor\":\"white\",\"plot_bgcolor\":\"#E5ECF6\",\"polar\":{\"angularaxis\":{\"gridcolor\":\"white\",\"linecolor\":\"white\",\"ticks\":\"\"},\"bgcolor\":\"#E5ECF6\",\"radialaxis\":{\"gridcolor\":\"white\",\"linecolor\":\"white\",\"ticks\":\"\"}},\"scene\":{\"xaxis\":{\"backgroundcolor\":\"#E5ECF6\",\"gridcolor\":\"white\",\"gridwidth\":2,\"linecolor\":\"white\",\"showbackground\":true,\"ticks\":\"\",\"zerolinecolor\":\"white\"},\"yaxis\":{\"backgroundcolor\":\"#E5ECF6\",\"gridcolor\":\"white\",\"gridwidth\":2,\"linecolor\":\"white\",\"showbackground\":true,\"ticks\":\"\",\"zerolinecolor\":\"white\"},\"zaxis\":{\"backgroundcolor\":\"#E5ECF6\",\"gridcolor\":\"white\",\"gridwidth\":2,\"linecolor\":\"white\",\"showbackground\":true,\"ticks\":\"\",\"zerolinecolor\":\"white\"}},\"shapedefaults\":{\"line\":{\"color\":\"#2a3f5f\"}},\"ternary\":{\"aaxis\":{\"gridcolor\":\"white\",\"linecolor\":\"white\",\"ticks\":\"\"},\"baxis\":{\"gridcolor\":\"white\",\"linecolor\":\"white\",\"ticks\":\"\"},\"bgcolor\":\"#E5ECF6\",\"caxis\":{\"gridcolor\":\"white\",\"linecolor\":\"white\",\"ticks\":\"\"}},\"title\":{\"x\":0.05},\"xaxis\":{\"automargin\":true,\"gridcolor\":\"white\",\"linecolor\":\"white\",\"ticks\":\"\",\"title\":{\"standoff\":15},\"zerolinecolor\":\"white\",\"zerolinewidth\":2},\"yaxis\":{\"automargin\":true,\"gridcolor\":\"white\",\"linecolor\":\"white\",\"ticks\":\"\",\"title\":{\"standoff\":15},\"zerolinecolor\":\"white\",\"zerolinewidth\":2}}},\"legend\":{\"tracegroupgap\":0},\"margin\":{\"t\":60}},                        {\"responsive\": true}                    ).then(function(){\n",
              "                            \n",
              "var gd = document.getElementById('656636a3-ba85-41ac-b2a4-6945def60144');\n",
              "var x = new MutationObserver(function (mutations, observer) {{\n",
              "        var display = window.getComputedStyle(gd).display;\n",
              "        if (!display || display === 'none') {{\n",
              "            console.log([gd, 'removed!']);\n",
              "            Plotly.purge(gd);\n",
              "            observer.disconnect();\n",
              "        }}\n",
              "}});\n",
              "\n",
              "// Listen for the removal of the full notebook cells\n",
              "var notebookContainer = gd.closest('#notebook-container');\n",
              "if (notebookContainer) {{\n",
              "    x.observe(notebookContainer, {childList: true});\n",
              "}}\n",
              "\n",
              "// Listen for the clearing of the current output cell\n",
              "var outputEl = gd.closest('.output');\n",
              "if (outputEl) {{\n",
              "    x.observe(outputEl, {childList: true});\n",
              "}}\n",
              "\n",
              "                        })                };                            </script>        </div>\n",
              "</body>\n",
              "</html>"
            ]
          },
          "metadata": {}
        },
        {
          "output_type": "display_data",
          "data": {
            "text/html": [
              "<html>\n",
              "<head><meta charset=\"utf-8\" /></head>\n",
              "<body>\n",
              "    <div>            <script src=\"https://cdnjs.cloudflare.com/ajax/libs/mathjax/2.7.5/MathJax.js?config=TeX-AMS-MML_SVG\"></script><script type=\"text/javascript\">if (window.MathJax) {MathJax.Hub.Config({SVG: {font: \"STIX-Web\"}});}</script>                <script type=\"text/javascript\">window.PlotlyConfig = {MathJaxConfig: 'local'};</script>\n",
              "        <script src=\"https://cdn.plot.ly/plotly-2.8.3.min.js\"></script>                <div id=\"66f047ec-e12d-41e9-b236-9d11cf784d96\" class=\"plotly-graph-div\" style=\"height:525px; width:100%;\"></div>            <script type=\"text/javascript\">                                    window.PLOTLYENV=window.PLOTLYENV || {};                                    if (document.getElementById(\"66f047ec-e12d-41e9-b236-9d11cf784d96\")) {                    Plotly.newPlot(                        \"66f047ec-e12d-41e9-b236-9d11cf784d96\",                        [{\"branchvalues\":\"total\",\"domain\":{\"x\":[0.0,1.0],\"y\":[0.0,1.0]},\"hovertemplate\":\"labels=%{label}<br>PDV=%{value}<br>parent=%{parent}<br>id=%{id}<extra></extra>\",\"ids\":[\"Cantidad PDVs con Cumplimiento Precio/CO Andes/Aguila\",\"Cantidad PDVs con Cumplimiento Precio/CO Centro/Aguila\",\"Cantidad PDVs con Cumplimiento Precio/CO Norte/Aguila\",\"Cantidad PDVs con Cumplimiento Precio/CO Sur/Aguila\",\"Cantidad PDVs con Cumplimiento Precio/CO Andes/Aguila Light\",\"Cantidad PDVs con Cumplimiento Precio/CO Centro/Aguila Light\",\"Cantidad PDVs con Cumplimiento Precio/CO Norte/Aguila Light\",\"Cantidad PDVs con Cumplimiento Precio/CO Sur/Aguila Light\",\"Cantidad PDVs con Cumplimiento Precio/CO Andes/Andina\",\"Cantidad PDVs con Cumplimiento Precio/CO Centro/Andina\",\"Cantidad PDVs con Cumplimiento Precio/CO Norte/Andina\",\"Cantidad PDVs con Cumplimiento Precio/CO Sur/Andina\",\"Cantidad PDVs con Cumplimiento Precio/CO Centro/Andina Light\",\"Cantidad PDVs con Cumplimiento Precio/CO Andes/Becks\",\"Cantidad PDVs con Cumplimiento Precio/CO Norte/Becks\",\"Cantidad PDVs con Cumplimiento Precio/CO Sur/Becks\",\"Cantidad PDVs con Cumplimiento Precio/CO Andes/Budweiser\",\"Cantidad PDVs con Cumplimiento Precio/CO Centro/Budweiser\",\"Cantidad PDVs con Cumplimiento Precio/CO Norte/Budweiser\",\"Cantidad PDVs con Cumplimiento Precio/CO Sur/Budweiser\",\"Cantidad PDVs con Cumplimiento Precio/CO Norte/Club Colombia\",\"Cantidad PDVs con Cumplimiento Precio/CO Sur/Club Colombia\",\"Cantidad PDVs con Cumplimiento Precio/CO Andes/Coste\\u00c3\\u00b1a Bacana\",\"Cantidad PDVs con Cumplimiento Precio/CO Centro/Coste\\u00c3\\u00b1a Bacana\",\"Cantidad PDVs con Cumplimiento Precio/CO Norte/Coste\\u00c3\\u00b1a Bacana\",\"Cantidad PDVs con Cumplimiento Precio/CO Sur/Coste\\u00c3\\u00b1a Bacana\",\"Cantidad PDVs con Cumplimiento Precio/CO Andes/Heineken\",\"Cantidad PDVs con Cumplimiento Precio/CO Centro/Heineken\",\"Cantidad PDVs con Cumplimiento Precio/CO Norte/Heineken\",\"Cantidad PDVs con Cumplimiento Precio/CO Sur/Heineken\",\"Cantidad PDVs con Cumplimiento Precio/CO Norte/Miller Lite\",\"Cantidad PDVs con Cumplimiento Precio/CO Norte/Nativa\",\"Cantidad PDVs con Cumplimiento Precio/CO Andes/Pilsen\",\"Cantidad PDVs con Cumplimiento Precio/CO Andes/Poker\",\"Cantidad PDVs con Cumplimiento Precio/CO Centro/Poker\",\"Cantidad PDVs con Cumplimiento Precio/CO Norte/Poker\",\"Cantidad PDVs con Cumplimiento Precio/CO Sur/Poker\",\"Cantidad PDVs con Cumplimiento Precio/CO Andes\",\"Cantidad PDVs con Cumplimiento Precio/CO Centro\",\"Cantidad PDVs con Cumplimiento Precio/CO Norte\",\"Cantidad PDVs con Cumplimiento Precio/CO Sur\",\"Cantidad PDVs con Cumplimiento Precio\"],\"labels\":[\"Aguila\",\"Aguila\",\"Aguila\",\"Aguila\",\"Aguila Light\",\"Aguila Light\",\"Aguila Light\",\"Aguila Light\",\"Andina\",\"Andina\",\"Andina\",\"Andina\",\"Andina Light\",\"Becks\",\"Becks\",\"Becks\",\"Budweiser\",\"Budweiser\",\"Budweiser\",\"Budweiser\",\"Club Colombia\",\"Club Colombia\",\"Coste\\u00c3\\u00b1a Bacana\",\"Coste\\u00c3\\u00b1a Bacana\",\"Coste\\u00c3\\u00b1a Bacana\",\"Coste\\u00c3\\u00b1a Bacana\",\"Heineken\",\"Heineken\",\"Heineken\",\"Heineken\",\"Miller Lite\",\"Nativa\",\"Pilsen\",\"Poker\",\"Poker\",\"Poker\",\"Poker\",\"CO Andes\",\"CO Centro\",\"CO Norte\",\"CO Sur\",\"Cantidad PDVs con Cumplimiento Precio\"],\"name\":\"\",\"parents\":[\"Cantidad PDVs con Cumplimiento Precio/CO Andes\",\"Cantidad PDVs con Cumplimiento Precio/CO Centro\",\"Cantidad PDVs con Cumplimiento Precio/CO Norte\",\"Cantidad PDVs con Cumplimiento Precio/CO Sur\",\"Cantidad PDVs con Cumplimiento Precio/CO Andes\",\"Cantidad PDVs con Cumplimiento Precio/CO Centro\",\"Cantidad PDVs con Cumplimiento Precio/CO Norte\",\"Cantidad PDVs con Cumplimiento Precio/CO Sur\",\"Cantidad PDVs con Cumplimiento Precio/CO Andes\",\"Cantidad PDVs con Cumplimiento Precio/CO Centro\",\"Cantidad PDVs con Cumplimiento Precio/CO Norte\",\"Cantidad PDVs con Cumplimiento Precio/CO Sur\",\"Cantidad PDVs con Cumplimiento Precio/CO Centro\",\"Cantidad PDVs con Cumplimiento Precio/CO Andes\",\"Cantidad PDVs con Cumplimiento Precio/CO Norte\",\"Cantidad PDVs con Cumplimiento Precio/CO Sur\",\"Cantidad PDVs con Cumplimiento Precio/CO Andes\",\"Cantidad PDVs con Cumplimiento Precio/CO Centro\",\"Cantidad PDVs con Cumplimiento Precio/CO Norte\",\"Cantidad PDVs con Cumplimiento Precio/CO Sur\",\"Cantidad PDVs con Cumplimiento Precio/CO Norte\",\"Cantidad PDVs con Cumplimiento Precio/CO Sur\",\"Cantidad PDVs con Cumplimiento Precio/CO Andes\",\"Cantidad PDVs con Cumplimiento Precio/CO Centro\",\"Cantidad PDVs con Cumplimiento Precio/CO Norte\",\"Cantidad PDVs con Cumplimiento Precio/CO Sur\",\"Cantidad PDVs con Cumplimiento Precio/CO Andes\",\"Cantidad PDVs con Cumplimiento Precio/CO Centro\",\"Cantidad PDVs con Cumplimiento Precio/CO Norte\",\"Cantidad PDVs con Cumplimiento Precio/CO Sur\",\"Cantidad PDVs con Cumplimiento Precio/CO Norte\",\"Cantidad PDVs con Cumplimiento Precio/CO Norte\",\"Cantidad PDVs con Cumplimiento Precio/CO Andes\",\"Cantidad PDVs con Cumplimiento Precio/CO Andes\",\"Cantidad PDVs con Cumplimiento Precio/CO Centro\",\"Cantidad PDVs con Cumplimiento Precio/CO Norte\",\"Cantidad PDVs con Cumplimiento Precio/CO Sur\",\"Cantidad PDVs con Cumplimiento Precio\",\"Cantidad PDVs con Cumplimiento Precio\",\"Cantidad PDVs con Cumplimiento Precio\",\"Cantidad PDVs con Cumplimiento Precio\",\"\"],\"values\":[3615,5824,4197,1691,1548,1517,2237,1566,286,723,204,221,65,8,69,24,187,483,471,533,212,83,156,1464,118,808,46,78,66,33,35,121,1109,3029,6951,3076,4010,9984,17105,10806,8969,46864],\"type\":\"treemap\",\"root\":{\"color\":\"lightgrey\"}}],                        {\"template\":{\"data\":{\"bar\":[{\"error_x\":{\"color\":\"#2a3f5f\"},\"error_y\":{\"color\":\"#2a3f5f\"},\"marker\":{\"line\":{\"color\":\"#E5ECF6\",\"width\":0.5},\"pattern\":{\"fillmode\":\"overlay\",\"size\":10,\"solidity\":0.2}},\"type\":\"bar\"}],\"barpolar\":[{\"marker\":{\"line\":{\"color\":\"#E5ECF6\",\"width\":0.5},\"pattern\":{\"fillmode\":\"overlay\",\"size\":10,\"solidity\":0.2}},\"type\":\"barpolar\"}],\"carpet\":[{\"aaxis\":{\"endlinecolor\":\"#2a3f5f\",\"gridcolor\":\"white\",\"linecolor\":\"white\",\"minorgridcolor\":\"white\",\"startlinecolor\":\"#2a3f5f\"},\"baxis\":{\"endlinecolor\":\"#2a3f5f\",\"gridcolor\":\"white\",\"linecolor\":\"white\",\"minorgridcolor\":\"white\",\"startlinecolor\":\"#2a3f5f\"},\"type\":\"carpet\"}],\"choropleth\":[{\"colorbar\":{\"outlinewidth\":0,\"ticks\":\"\"},\"type\":\"choropleth\"}],\"contour\":[{\"colorbar\":{\"outlinewidth\":0,\"ticks\":\"\"},\"colorscale\":[[0.0,\"#0d0887\"],[0.1111111111111111,\"#46039f\"],[0.2222222222222222,\"#7201a8\"],[0.3333333333333333,\"#9c179e\"],[0.4444444444444444,\"#bd3786\"],[0.5555555555555556,\"#d8576b\"],[0.6666666666666666,\"#ed7953\"],[0.7777777777777778,\"#fb9f3a\"],[0.8888888888888888,\"#fdca26\"],[1.0,\"#f0f921\"]],\"type\":\"contour\"}],\"contourcarpet\":[{\"colorbar\":{\"outlinewidth\":0,\"ticks\":\"\"},\"type\":\"contourcarpet\"}],\"heatmap\":[{\"colorbar\":{\"outlinewidth\":0,\"ticks\":\"\"},\"colorscale\":[[0.0,\"#0d0887\"],[0.1111111111111111,\"#46039f\"],[0.2222222222222222,\"#7201a8\"],[0.3333333333333333,\"#9c179e\"],[0.4444444444444444,\"#bd3786\"],[0.5555555555555556,\"#d8576b\"],[0.6666666666666666,\"#ed7953\"],[0.7777777777777778,\"#fb9f3a\"],[0.8888888888888888,\"#fdca26\"],[1.0,\"#f0f921\"]],\"type\":\"heatmap\"}],\"heatmapgl\":[{\"colorbar\":{\"outlinewidth\":0,\"ticks\":\"\"},\"colorscale\":[[0.0,\"#0d0887\"],[0.1111111111111111,\"#46039f\"],[0.2222222222222222,\"#7201a8\"],[0.3333333333333333,\"#9c179e\"],[0.4444444444444444,\"#bd3786\"],[0.5555555555555556,\"#d8576b\"],[0.6666666666666666,\"#ed7953\"],[0.7777777777777778,\"#fb9f3a\"],[0.8888888888888888,\"#fdca26\"],[1.0,\"#f0f921\"]],\"type\":\"heatmapgl\"}],\"histogram\":[{\"marker\":{\"pattern\":{\"fillmode\":\"overlay\",\"size\":10,\"solidity\":0.2}},\"type\":\"histogram\"}],\"histogram2d\":[{\"colorbar\":{\"outlinewidth\":0,\"ticks\":\"\"},\"colorscale\":[[0.0,\"#0d0887\"],[0.1111111111111111,\"#46039f\"],[0.2222222222222222,\"#7201a8\"],[0.3333333333333333,\"#9c179e\"],[0.4444444444444444,\"#bd3786\"],[0.5555555555555556,\"#d8576b\"],[0.6666666666666666,\"#ed7953\"],[0.7777777777777778,\"#fb9f3a\"],[0.8888888888888888,\"#fdca26\"],[1.0,\"#f0f921\"]],\"type\":\"histogram2d\"}],\"histogram2dcontour\":[{\"colorbar\":{\"outlinewidth\":0,\"ticks\":\"\"},\"colorscale\":[[0.0,\"#0d0887\"],[0.1111111111111111,\"#46039f\"],[0.2222222222222222,\"#7201a8\"],[0.3333333333333333,\"#9c179e\"],[0.4444444444444444,\"#bd3786\"],[0.5555555555555556,\"#d8576b\"],[0.6666666666666666,\"#ed7953\"],[0.7777777777777778,\"#fb9f3a\"],[0.8888888888888888,\"#fdca26\"],[1.0,\"#f0f921\"]],\"type\":\"histogram2dcontour\"}],\"mesh3d\":[{\"colorbar\":{\"outlinewidth\":0,\"ticks\":\"\"},\"type\":\"mesh3d\"}],\"parcoords\":[{\"line\":{\"colorbar\":{\"outlinewidth\":0,\"ticks\":\"\"}},\"type\":\"parcoords\"}],\"pie\":[{\"automargin\":true,\"type\":\"pie\"}],\"scatter\":[{\"marker\":{\"colorbar\":{\"outlinewidth\":0,\"ticks\":\"\"}},\"type\":\"scatter\"}],\"scatter3d\":[{\"line\":{\"colorbar\":{\"outlinewidth\":0,\"ticks\":\"\"}},\"marker\":{\"colorbar\":{\"outlinewidth\":0,\"ticks\":\"\"}},\"type\":\"scatter3d\"}],\"scattercarpet\":[{\"marker\":{\"colorbar\":{\"outlinewidth\":0,\"ticks\":\"\"}},\"type\":\"scattercarpet\"}],\"scattergeo\":[{\"marker\":{\"colorbar\":{\"outlinewidth\":0,\"ticks\":\"\"}},\"type\":\"scattergeo\"}],\"scattergl\":[{\"marker\":{\"colorbar\":{\"outlinewidth\":0,\"ticks\":\"\"}},\"type\":\"scattergl\"}],\"scattermapbox\":[{\"marker\":{\"colorbar\":{\"outlinewidth\":0,\"ticks\":\"\"}},\"type\":\"scattermapbox\"}],\"scatterpolar\":[{\"marker\":{\"colorbar\":{\"outlinewidth\":0,\"ticks\":\"\"}},\"type\":\"scatterpolar\"}],\"scatterpolargl\":[{\"marker\":{\"colorbar\":{\"outlinewidth\":0,\"ticks\":\"\"}},\"type\":\"scatterpolargl\"}],\"scatterternary\":[{\"marker\":{\"colorbar\":{\"outlinewidth\":0,\"ticks\":\"\"}},\"type\":\"scatterternary\"}],\"surface\":[{\"colorbar\":{\"outlinewidth\":0,\"ticks\":\"\"},\"colorscale\":[[0.0,\"#0d0887\"],[0.1111111111111111,\"#46039f\"],[0.2222222222222222,\"#7201a8\"],[0.3333333333333333,\"#9c179e\"],[0.4444444444444444,\"#bd3786\"],[0.5555555555555556,\"#d8576b\"],[0.6666666666666666,\"#ed7953\"],[0.7777777777777778,\"#fb9f3a\"],[0.8888888888888888,\"#fdca26\"],[1.0,\"#f0f921\"]],\"type\":\"surface\"}],\"table\":[{\"cells\":{\"fill\":{\"color\":\"#EBF0F8\"},\"line\":{\"color\":\"white\"}},\"header\":{\"fill\":{\"color\":\"#C8D4E3\"},\"line\":{\"color\":\"white\"}},\"type\":\"table\"}]},\"layout\":{\"annotationdefaults\":{\"arrowcolor\":\"#2a3f5f\",\"arrowhead\":0,\"arrowwidth\":1},\"autotypenumbers\":\"strict\",\"coloraxis\":{\"colorbar\":{\"outlinewidth\":0,\"ticks\":\"\"}},\"colorscale\":{\"diverging\":[[0,\"#8e0152\"],[0.1,\"#c51b7d\"],[0.2,\"#de77ae\"],[0.3,\"#f1b6da\"],[0.4,\"#fde0ef\"],[0.5,\"#f7f7f7\"],[0.6,\"#e6f5d0\"],[0.7,\"#b8e186\"],[0.8,\"#7fbc41\"],[0.9,\"#4d9221\"],[1,\"#276419\"]],\"sequential\":[[0.0,\"#0d0887\"],[0.1111111111111111,\"#46039f\"],[0.2222222222222222,\"#7201a8\"],[0.3333333333333333,\"#9c179e\"],[0.4444444444444444,\"#bd3786\"],[0.5555555555555556,\"#d8576b\"],[0.6666666666666666,\"#ed7953\"],[0.7777777777777778,\"#fb9f3a\"],[0.8888888888888888,\"#fdca26\"],[1.0,\"#f0f921\"]],\"sequentialminus\":[[0.0,\"#0d0887\"],[0.1111111111111111,\"#46039f\"],[0.2222222222222222,\"#7201a8\"],[0.3333333333333333,\"#9c179e\"],[0.4444444444444444,\"#bd3786\"],[0.5555555555555556,\"#d8576b\"],[0.6666666666666666,\"#ed7953\"],[0.7777777777777778,\"#fb9f3a\"],[0.8888888888888888,\"#fdca26\"],[1.0,\"#f0f921\"]]},\"colorway\":[\"#636efa\",\"#EF553B\",\"#00cc96\",\"#ab63fa\",\"#FFA15A\",\"#19d3f3\",\"#FF6692\",\"#B6E880\",\"#FF97FF\",\"#FECB52\"],\"font\":{\"color\":\"#2a3f5f\"},\"geo\":{\"bgcolor\":\"white\",\"lakecolor\":\"white\",\"landcolor\":\"#E5ECF6\",\"showlakes\":true,\"showland\":true,\"subunitcolor\":\"white\"},\"hoverlabel\":{\"align\":\"left\"},\"hovermode\":\"closest\",\"mapbox\":{\"style\":\"light\"},\"paper_bgcolor\":\"white\",\"plot_bgcolor\":\"#E5ECF6\",\"polar\":{\"angularaxis\":{\"gridcolor\":\"white\",\"linecolor\":\"white\",\"ticks\":\"\"},\"bgcolor\":\"#E5ECF6\",\"radialaxis\":{\"gridcolor\":\"white\",\"linecolor\":\"white\",\"ticks\":\"\"}},\"scene\":{\"xaxis\":{\"backgroundcolor\":\"#E5ECF6\",\"gridcolor\":\"white\",\"gridwidth\":2,\"linecolor\":\"white\",\"showbackground\":true,\"ticks\":\"\",\"zerolinecolor\":\"white\"},\"yaxis\":{\"backgroundcolor\":\"#E5ECF6\",\"gridcolor\":\"white\",\"gridwidth\":2,\"linecolor\":\"white\",\"showbackground\":true,\"ticks\":\"\",\"zerolinecolor\":\"white\"},\"zaxis\":{\"backgroundcolor\":\"#E5ECF6\",\"gridcolor\":\"white\",\"gridwidth\":2,\"linecolor\":\"white\",\"showbackground\":true,\"ticks\":\"\",\"zerolinecolor\":\"white\"}},\"shapedefaults\":{\"line\":{\"color\":\"#2a3f5f\"}},\"ternary\":{\"aaxis\":{\"gridcolor\":\"white\",\"linecolor\":\"white\",\"ticks\":\"\"},\"baxis\":{\"gridcolor\":\"white\",\"linecolor\":\"white\",\"ticks\":\"\"},\"bgcolor\":\"#E5ECF6\",\"caxis\":{\"gridcolor\":\"white\",\"linecolor\":\"white\",\"ticks\":\"\"}},\"title\":{\"x\":0.05},\"xaxis\":{\"automargin\":true,\"gridcolor\":\"white\",\"linecolor\":\"white\",\"ticks\":\"\",\"title\":{\"standoff\":15},\"zerolinecolor\":\"white\",\"zerolinewidth\":2},\"yaxis\":{\"automargin\":true,\"gridcolor\":\"white\",\"linecolor\":\"white\",\"ticks\":\"\",\"title\":{\"standoff\":15},\"zerolinecolor\":\"white\",\"zerolinewidth\":2}}},\"legend\":{\"tracegroupgap\":0},\"margin\":{\"t\":50,\"l\":25,\"r\":25,\"b\":25}},                        {\"responsive\": true}                    ).then(function(){\n",
              "                            \n",
              "var gd = document.getElementById('66f047ec-e12d-41e9-b236-9d11cf784d96');\n",
              "var x = new MutationObserver(function (mutations, observer) {{\n",
              "        var display = window.getComputedStyle(gd).display;\n",
              "        if (!display || display === 'none') {{\n",
              "            console.log([gd, 'removed!']);\n",
              "            Plotly.purge(gd);\n",
              "            observer.disconnect();\n",
              "        }}\n",
              "}});\n",
              "\n",
              "// Listen for the removal of the full notebook cells\n",
              "var notebookContainer = gd.closest('#notebook-container');\n",
              "if (notebookContainer) {{\n",
              "    x.observe(notebookContainer, {childList: true});\n",
              "}}\n",
              "\n",
              "// Listen for the clearing of the current output cell\n",
              "var outputEl = gd.closest('.output');\n",
              "if (outputEl) {{\n",
              "    x.observe(outputEl, {childList: true});\n",
              "}}\n",
              "\n",
              "                        })                };                            </script>        </div>\n",
              "</body>\n",
              "</html>"
            ]
          },
          "metadata": {}
        }
      ]
    },
    {
      "cell_type": "code",
      "source": [
        "#df_grouped = filtro.groupby(['Region','Marca','Canal'])[['Region','Marca','Cumplimiento']].max()\n",
        "#fig = px.treemap(df_grouped, path=['Region','Marca'], values='Cumplimiento')\n",
        "#fig.show()"
      ],
      "metadata": {
        "id": "T-WDzqtRCZqM"
      },
      "execution_count": null,
      "outputs": []
    },
    {
      "cell_type": "markdown",
      "source": [
        "# **BARRAS** **APILADAS**"
      ],
      "metadata": {
        "id": "2VicQQ87dcQJ"
      }
    },
    {
      "cell_type": "code",
      "source": [
        "df_grouped = df1.groupby(['Region','Marca'], as_index=False)[['Marca']].max()\n"
      ],
      "metadata": {
        "id": "41GGk67gEmD7"
      },
      "execution_count": null,
      "outputs": []
    },
    {
      "cell_type": "code",
      "source": [
        "value_counts_all = df_grouped['Marca'].value_counts()\n",
        "value_counts_all"
      ],
      "metadata": {
        "colab": {
          "base_uri": "https://localhost:8080/"
        },
        "id": "KBkkULuYFBfM",
        "outputId": "5faf82ce-f418-4913-b941-58a2b5f4ad03"
      },
      "execution_count": null,
      "outputs": [
        {
          "output_type": "execute_result",
          "data": {
            "text/plain": [
              "Aguila             4\n",
              "Aguila Light       4\n",
              "Andina             4\n",
              "Budweiser          4\n",
              "CosteÃ±a Bacana    4\n",
              "Heineken           4\n",
              "Poker              4\n",
              "Becks              3\n",
              "Club Colombia      2\n",
              "Pilsen             1\n",
              "Andina Light       1\n",
              "Miller Lite        1\n",
              "Nativa             1\n",
              "Name: Marca, dtype: int64"
            ]
          },
          "metadata": {},
          "execution_count": 228
        }
      ]
    },
    {
      "cell_type": "code",
      "source": [
        "fig = plt.figure()\n",
        "ax = fig.add_subplot()\n",
        "\n",
        "sns.barplot(x= value_counts_all.index, y= value_counts_all, ax=ax, palette='Blues');\n",
        "\n",
        "ax.set_ylabel('count')\n",
        "ax.set_title('Conteo de frecuencia por marca', fontsize=15, pad=50);\n",
        "ax.set_xticklabels(ax.get_xticklabels(), rotation=50);"
      ],
      "metadata": {
        "colab": {
          "base_uri": "https://localhost:8080/",
          "height": 393
        },
        "id": "GrIzgF_ndkHB",
        "outputId": "57556b99-cfa3-4816-f3c7-a02ddacaca2d"
      },
      "execution_count": null,
      "outputs": [
        {
          "output_type": "display_data",
          "data": {
            "text/plain": [
              "<Figure size 432x288 with 1 Axes>"
            ],
            "image/png": "[encoded data removed]"
          },
          "metadata": {
            "needs_background": "light"
          }
        }
      ]
    }
  ]
}